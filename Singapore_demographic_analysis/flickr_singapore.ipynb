{
 "metadata": {
  "language_info": {
   "codemirror_mode": {
    "name": "ipython",
    "version": 3
   },
   "file_extension": ".py",
   "mimetype": "text/x-python",
   "name": "python",
   "nbconvert_exporter": "python",
   "pygments_lexer": "ipython3",
   "version": "3.7.4-final"
  },
  "orig_nbformat": 2,
  "kernelspec": {
   "name": "python_defaultSpec_1598931199498",
   "display_name": "Python 3.7.4 64-bit ('base': conda)"
  }
 },
 "nbformat": 4,
 "nbformat_minor": 2,
 "cells": [
  {
   "cell_type": "markdown",
   "metadata": {},
   "source": [
    "# Import libraries"
   ]
  },
  {
   "cell_type": "code",
   "execution_count": 1,
   "metadata": {},
   "outputs": [],
   "source": [
    "import flickrapi\n",
    "from lxml import etree\n",
    "from lxml.html.soupparser import fromstring\n",
    "from lxml.etree import tostring\n",
    "import bs4 as bs\n",
    "import pandas as pd\n",
    "from tqdm import tqdm\n",
    "import time"
   ]
  },
  {
   "cell_type": "markdown",
   "metadata": {},
   "source": [
    "This function takes a list of tags and a list of boundary box and return csv files of photo ids, title, and location data in Singapore"
   ]
  },
  {
   "cell_type": "markdown",
   "metadata": {},
   "source": [
    "# The function"
   ]
  },
  {
   "cell_type": "code",
   "execution_count": 50,
   "metadata": {},
   "outputs": [],
   "source": [
    "def flickr(api_key_1, secret_1, api_key_2, secret_2, api_key_3, secret_3, api_key_4, secret_4,tags):\n",
    "    for tag in tags:\n",
    "        df_combined=pd.DataFrame()\n",
    "        # for grid in tqdm(list_grid_combined,desc='inner_loop',position=0):\n",
    "        page=1\n",
    "        pbar = tqdm(total=16,desc='outer_loop',position=1, leave=False)\n",
    "\n",
    "        while page <=16:\n",
    "            # create a flickr object, search photos, and store the result\n",
    "            if page%4==0:\n",
    "                flickr = flickrapi.FlickrAPI(api_key_1,secret=secret_1)\n",
    "                result=flickr.photos.search(api_key=api_key,\n",
    "                                    tags=tag,\n",
    "                                    bbox='103.6920359,1.1304753,104.0120359,1.4504753',\n",
    "                                    accuracy=16, # the highest accruacy of location\n",
    "                                    has_geo=1,\n",
    "                                    geo_context=2, # outdoor photo\n",
    "                                    content_type=1, # includes only photos\n",
    "                                    per_page=250,\n",
    "                                    page=page\n",
    "                                    )\n",
    "            elif page%4==1:\n",
    "                flickr = flickrapi.FlickrAPI(api_key_2,secret=secret_2)\n",
    "                result=flickr.photos.search(api_key=api_key,\n",
    "                                    tags=tag,\n",
    "                                    bbox='103.6920359,1.1304753,104.0120359,1.4504753',\n",
    "                                    accuracy=16, # the highest accruacy of location\n",
    "                                    has_geo=1,\n",
    "                                    geo_context=2, # outdoor photo\n",
    "                                    content_type=1, # includes only photos\n",
    "                                    per_page=250,\n",
    "                                    page=page\n",
    "                                    )\n",
    "\n",
    "            elif page%4==2:\n",
    "                flickr = flickrapi.FlickrAPI(api_key_3,secret=secret_3)\n",
    "                result=flickr.photos.search(api_key=api_key,\n",
    "                                    tags=tag,\n",
    "                                    bbox='103.6920359,1.1304753,104.0120359,1.4504753',\n",
    "                                    accuracy=16, # the highest accruacy of location\n",
    "                                    has_geo=1,\n",
    "                                    geo_context=2, # outdoor photo\n",
    "                                    content_type=1, # includes only photos\n",
    "                                    per_page=250,\n",
    "                                    page=page\n",
    "                                    )\n",
    "\n",
    "            else:\n",
    "                flickr = flickrapi.FlickrAPI(api_key_4,secret=secret_4)\n",
    "                result=flickr.photos.search(api_key=api_key,\n",
    "                                    tags=tag,\n",
    "                                    bbox='103.6920359,1.1304753,104.0120359,1.4504753',\n",
    "                                    accuracy=16, # the highest accruacy of location\n",
    "                                    has_geo=1,\n",
    "                                    geo_context=2, # outdoor photo\n",
    "                                    content_type=1, # includes only photos\n",
    "                                    per_page=250,\n",
    "                                    page=page\n",
    "                                    )\n",
    "\n",
    "            # parse the result to a string and convert it a soup object\n",
    "            str_result=tostring(result, pretty_print=True).strip()\n",
    "            soup=bs.BeautifulSoup(str_result,'lxml')\n",
    "            photos=soup.find_all('photo') # find all the photos\n",
    "            if len(photos)==0:\n",
    "                break\n",
    "            list_id=[]\n",
    "            list_title=[]\n",
    "\n",
    "            # store the id and title of each photo as lists\n",
    "            for photo in photos:\n",
    "                id=photo['id']\n",
    "                title=photo['title']\n",
    "                list_id.append(id)\n",
    "                list_title.append(title)\n",
    "\n",
    "            # convert lists to a dataframe\n",
    "            dictionary_photo={'id': list_id, 'title': list_title}\n",
    "            df_photos=pd.DataFrame.from_dict(dictionary_photo)\n",
    "\n",
    "            # Getting location data\n",
    "            list_lat=[]\n",
    "            list_lon=[]\n",
    "            api_condition=0\n",
    "            for id in tqdm(list_id, desc='location',position=0, leave=True):\n",
    "                if api_condition%4==0:\n",
    "                    result_location=flickr.photos.geo.getLocation(api_key=api_key_1,photo_id=id)\n",
    "                elif api_condition%4==1:\n",
    "                    result_location=flickr.photos.geo.getLocation(api_key=api_key_2,photo_id=id)\n",
    "                elif api_condition%4==2:\n",
    "                    result_location=flickr.photos.geo.getLocation(api_key=api_key_3,photo_id=id)\n",
    "                else:\n",
    "                    result_location=flickr.photos.geo.getLocation(api_key=api_key_4,photo_id=id)\n",
    "                str_result_location=tostring(result_location, pretty_print=True).strip()\n",
    "                soup=bs.BeautifulSoup(str_result_location,'lxml')\n",
    "                latitude=soup.find('location')['latitude']\n",
    "                longitude=soup.find('location')['longitude']\n",
    "                list_lat.append(latitude)\n",
    "                list_lon.append(longitude)\n",
    "\n",
    "                # update the condition\n",
    "                api_condition+=1\n",
    "\n",
    "            # add lists as columns to dataframe\n",
    "            df_photos['latitude']=list_lat\n",
    "            df_photos['longitude']=list_lon\n",
    "\n",
    "            # append df_photos to df_combined\n",
    "            df_combined=df_combined.append(df_photos, ignore_index=True)\n",
    "\n",
    "            # update page number\n",
    "            page+=1\n",
    "\n",
    "            # update the progress bar  \n",
    "            pbar.update(16)\n",
    "\n",
    "        pbar.close()\n",
    "        # save the result to a csv file\n",
    "        df_combined.to_csv('singapore_'+tag+'.csv')"
   ]
  },
  {
   "cell_type": "markdown",
   "metadata": {},
   "source": [
    "# Run the Function"
   ]
  },
  {
   "cell_type": "code",
   "execution_count": 51,
   "metadata": {
    "tags": []
   },
   "outputs": [
    {
     "output_type": "stream",
     "name": "stderr",
     "text": "\nlocation: 100%|██████████| 250/250 [01:42<00:00,  2.44it/s]\n\nlocation:  25%|██▌       | 63/250 [00:26<01:19,  2.35it/s]\nlocation: 100%|██████████| 250/250 [01:37<00:00,  2.55it/s]\n\nlocation: 100%|██████████| 221/221 [01:36<00:00,  2.30it/s]\n\nouter_loop: 48it [05:00,  6.32s/it]\u001b[A\n\u001b[A"
    }
   ],
   "source": [
    "if __name__ =='__main__':\n",
    "    # necessary api_key and secret\n",
    "    api_key_1='c1213a3e48a6f81b770b75886c9b8f36'\n",
    "    secret_1='313004d2386767a7'\n",
    "\n",
    "    api_key_2='255ee55bc083a85e5feda88bee22361a'\n",
    "    secret_2='9e8960ceafee1933'\n",
    "\n",
    "    api_key_3='d95f0ac759a6b49ad6eb8a441f98fded'\n",
    "    secret_3='63789115ef767db9'\n",
    "\n",
    "    api_key_4='9616df677ea194562fe56ed83c594e11'\n",
    "    secret_4='37517485008e26c8'\n",
    "\n",
    "    # tags\n",
    "    tags=[\n",
    "        'nature',\n",
    "        'leisure',\n",
    "        'waterfront',\n",
    "        'relax',\n",
    "        'chill',\n",
    "        'history'\n",
    "        ]\n",
    "\n",
    "    # run the function\n",
    "    flickr(api_key_1, secret_1, api_key_2, secret_2, api_key_3, secret_3, api_key_4, secret_4, tags)"
   ]
  }
 ]
}