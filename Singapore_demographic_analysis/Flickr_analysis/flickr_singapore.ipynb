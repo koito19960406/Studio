{
 "metadata": {
  "language_info": {
   "codemirror_mode": {
    "name": "ipython",
    "version": 3
   },
   "file_extension": ".py",
   "mimetype": "text/x-python",
   "name": "python",
   "nbconvert_exporter": "python",
   "pygments_lexer": "ipython3",
   "version": "3.7.4-final"
  },
  "orig_nbformat": 2,
  "kernelspec": {
   "name": "python_defaultSpec_1599034992261",
   "display_name": "Python 3.7.4 64-bit ('base': conda)"
  }
 },
 "nbformat": 4,
 "nbformat_minor": 2,
 "cells": [
  {
   "cell_type": "markdown",
   "metadata": {},
   "source": [
    "# Import libraries"
   ]
  },
  {
   "cell_type": "code",
   "execution_count": 16,
   "metadata": {},
   "outputs": [],
   "source": [
    "import flickrapi\n",
    "from lxml import etree\n",
    "from lxml.html.soupparser import fromstring\n",
    "from lxml.etree import tostring\n",
    "import bs4 as bs\n",
    "import pandas as pd\n",
    "from tqdm import tqdm\n",
    "import time\n",
    "# import api keys and secrets\n",
    "from flickr_apikey import api_key_1, secret_1, api_key_2, secret_2, api_key_3, secret_3, api_key_4, secret_4"
   ]
  },
  {
   "cell_type": "markdown",
   "metadata": {},
   "source": [
    "This function takes a list of tags and a list of boundary box and return csv files of photo ids, title, and location data in Singapore"
   ]
  },
  {
   "cell_type": "markdown",
   "metadata": {},
   "source": [
    "# functions"
   ]
  },
  {
   "cell_type": "markdown",
   "metadata": {},
   "source": [
    "## get the photo function"
   ]
  },
  {
   "cell_type": "code",
   "execution_count": 10,
   "metadata": {},
   "outputs": [],
   "source": [
    "def get_photo(page, per_page):\n",
    "    if page%4==0:\n",
    "        flickr = flickrapi.FlickrAPI(api_key_1,secret=secret_1)\n",
    "        result=flickr.photos.search(api_key=api_key_1,\n",
    "                            tags=tag,\n",
    "                            bbox='103.6920359,1.1304753,104.0120359,1.4504753',\n",
    "                            accuracy=16, # the highest accruacy of location\n",
    "                            has_geo=1,\n",
    "                            geo_context=2, # outdoor photo\n",
    "                            content_type=1, # includes only photos\n",
    "                            per_page=per_page,\n",
    "                            page=page\n",
    "                            )\n",
    "    elif page%4==1:\n",
    "        flickr = flickrapi.FlickrAPI(api_key_2,secret=secret_2)\n",
    "        result=flickr.photos.search(api_key=api_key_2,\n",
    "                            tags=tag,\n",
    "                            bbox='103.6920359,1.1304753,104.0120359,1.4504753',\n",
    "                            accuracy=16, # the highest accruacy of location\n",
    "                            has_geo=1,\n",
    "                            geo_context=2, # outdoor photo\n",
    "                            content_type=1, # includes only photos\n",
    "                            per_page=per_page,\n",
    "                            page=page\n",
    "                            )\n",
    "\n",
    "    elif page%4==2:\n",
    "        flickr = flickrapi.FlickrAPI(api_key_3,secret=secret_3)\n",
    "        result=flickr.photos.search(api_key=api_key_3,\n",
    "                            tags=tag,\n",
    "                            bbox='103.6920359,1.1304753,104.0120359,1.4504753',\n",
    "                            accuracy=16, # the highest accruacy of location\n",
    "                            has_geo=1,\n",
    "                            geo_context=2, # outdoor photo\n",
    "                            content_type=1, # includes only photos\n",
    "                            per_page=per_page,\n",
    "                            page=page\n",
    "                            )\n",
    "\n",
    "    else:\n",
    "        flickr = flickrapi.FlickrAPI(api_key_4,secret=secret_4)\n",
    "        result=flickr.photos.search(api_key=api_key_4,\n",
    "                            tags=tag,\n",
    "                            bbox='103.6920359,1.1304753,104.0120359,1.4504753',\n",
    "                            accuracy=16, # the highest accruacy of location\n",
    "                            has_geo=1,\n",
    "                            geo_context=2, # outdoor photo\n",
    "                            content_type=1, # includes only photos\n",
    "                            per_page=per_page,\n",
    "                            page=page\n",
    "                            )\n",
    "    return result"
   ]
  },
  {
   "cell_type": "markdown",
   "metadata": {},
   "source": [
    "## get the location"
   ]
  },
  {
   "cell_type": "code",
   "execution_count": 12,
   "metadata": {},
   "outputs": [],
   "source": [
    "def get_location(list):\n",
    "    # Getting location data\n",
    "    list_lat=[]\n",
    "    list_lon=[]\n",
    "    api_condition=0\n",
    "    for id in tqdm(list, desc='location',position=0, leave=True):\n",
    "        if api_condition%4==0:\n",
    "            result_location=flickr.photos.geo.getLocation(api_key=api_key_1,photo_id=id)\n",
    "        elif api_condition%4==1:\n",
    "            result_location=flickr.photos.geo.getLocation(api_key=api_key_2,photo_id=id)\n",
    "        elif api_condition%4==2:\n",
    "            result_location=flickr.photos.geo.getLocation(api_key=api_key_3,photo_id=id)\n",
    "        else:\n",
    "            result_location=flickr.photos.geo.getLocation(api_key=api_key_4,photo_id=id)\n",
    "        str_result_location=tostring(result_location, pretty_print=True).strip()\n",
    "        soup=bs.BeautifulSoup(str_result_location,'lxml')\n",
    "        latitude=soup.find('location')['latitude']\n",
    "        longitude=soup.find('location')['longitude']\n",
    "        list_lat.append(latitude)\n",
    "        list_lon.append(longitude)\n",
    "\n",
    "        # update the condition\n",
    "        api_condition+=1\n",
    "    return list_lat, list_lon"
   ]
  },
  {
   "cell_type": "markdown",
   "metadata": {},
   "source": [
    "## overarching function"
   ]
  },
  {
   "cell_type": "code",
   "execution_count": 8,
   "metadata": {},
   "outputs": [],
   "source": [
    "def flickr(api_key_1, secret_1, api_key_2, secret_2, api_key_3, secret_3, api_key_4, secret_4,tags):\n",
    "    for tag in tags:\n",
    "        df_combined=pd.DataFrame()\n",
    "        # for grid in tqdm(list_grid_combined,desc='inner_loop',position=0):\n",
    "        page=1\n",
    "        pbar = tqdm(total=16,desc='outer_loop',position=1, leave=False)\n",
    "\n",
    "        \n",
    "        while page <=16:\n",
    "            # get photo in lxml formt\n",
    "            result=get_photo(page,250)\n",
    "\n",
    "            # parse the result to a string and convert it a soup object\n",
    "            str_result=tostring(result, pretty_print=True).strip()\n",
    "            soup=bs.BeautifulSoup(str_result,'lxml')\n",
    "            photos=soup.find_all('photo') # find all the photos\n",
    "            if len(photos)==0:\n",
    "                break\n",
    "            list_id=[]\n",
    "            list_title=[]\n",
    "\n",
    "            # store the id and title of each photo as lists\n",
    "            for photo in photos:\n",
    "                id=photo['id']\n",
    "                title=photo['title']\n",
    "                list_id.append(id)\n",
    "                list_title.append(title)\n",
    "\n",
    "            # convert lists to a dataframe\n",
    "            dictionary_photo={'id': list_id, 'title': list_title}\n",
    "            df_photos=pd.DataFrame.from_dict(dictionary_photo)\n",
    "\n",
    "            # get location\n",
    "            list_lat, list_lon=get_location(list_id)\n",
    "\n",
    "            # add lists as columns to dataframe\n",
    "            df_photos['latitude']=list_lat\n",
    "            df_photos['longitude']=list_lon\n",
    "\n",
    "            # append df_photos to df_combined\n",
    "            df_combined=df_combined.append(df_photos, ignore_index=True)\n",
    "\n",
    "            # update page number\n",
    "            page+=1\n",
    "\n",
    "            # update the progress bar  \n",
    "            pbar.update(16)\n",
    "\n",
    "        pbar.close()\n",
    "        # save the result to a csv file\n",
    "        df_combined.to_csv('singapore_'+tag+'.csv')"
   ]
  },
  {
   "cell_type": "markdown",
   "metadata": {},
   "source": [
    "# Run the Function"
   ]
  },
  {
   "cell_type": "code",
   "execution_count": 15,
   "metadata": {
    "tags": []
   },
   "outputs": [
    {
     "output_type": "stream",
     "name": "stderr",
     "text": "\nlocation: 100%|██████████| 60/60 [00:26<00:00,  2.29it/s]\n\nouter_loop: 100%|██████████| 16/16 [00:27<00:00,  1.70s/it]\u001b[A\n\u001b[A"
    }
   ],
   "source": [
    "if __name__ =='__main__':\n",
    "    # tags\n",
    "    tags=[\n",
    "        'nature',\n",
    "        'leisure',\n",
    "        'waterfront',\n",
    "        'relax',\n",
    "        'chill',\n",
    "        'history'\n",
    "        ]\n",
    "\n",
    "    # run the function\n",
    "    flickr(api_key_1, secret_1, api_key_2, secret_2, api_key_3, secret_3, api_key_4, secret_4, tags)"
   ]
  },
  {
   "cell_type": "code",
   "execution_count": null,
   "metadata": {},
   "outputs": [],
   "source": []
  }
 ]
}