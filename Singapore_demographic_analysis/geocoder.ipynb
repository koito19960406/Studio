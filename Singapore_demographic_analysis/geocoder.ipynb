{
 "metadata": {
  "language_info": {
   "codemirror_mode": {
    "name": "ipython",
    "version": 3
   },
   "file_extension": ".py",
   "mimetype": "text/x-python",
   "name": "python",
   "nbconvert_exporter": "python",
   "pygments_lexer": "ipython3",
   "version": "3.7.4-final"
  },
  "orig_nbformat": 2,
  "kernelspec": {
   "name": "python3",
   "display_name": "Python 3"
  }
 },
 "nbformat": 4,
 "nbformat_minor": 2,
 "cells": [
  {
   "cell_type": "code",
   "execution_count": 45,
   "metadata": {},
   "outputs": [],
   "source": [
    "import pandas as pd\n",
    "from geopy.geocoders import Nominatim\n",
    "from tqdm import tqdm"
   ]
  },
  {
   "cell_type": "code",
   "execution_count": 46,
   "metadata": {},
   "outputs": [],
   "source": [
    "path='/Users/koichiito/Documents/NUS/Academic Matter/2020 Fall/DEP5103 Urban and Regional Planning/Studio'\n",
    "os.chdir(path)"
   ]
  },
  {
   "cell_type": "code",
   "execution_count": 47,
   "metadata": {},
   "outputs": [
    {
     "output_type": "execute_result",
     "data": {
      "text/plain": [
       "Index(['Unnamed:_0', 'Project_Name', 'Address', 'No._of_Units', 'Area_(sqm)',\n",
       "       'Type_of_Area', 'Transacted_Price_($)', 'Nett_Price($)',\n",
       "       'Unit_Price_($_psm)', 'Unit_Price_($_psf)', 'Sale_Date',\n",
       "       'Property_Type', 'Tenure', 'Completion_Date', 'Type_of_Sale',\n",
       "       'Purchaser_Address_Indicator', 'Postal_District', 'Postal_Sector',\n",
       "       'Postal_Code', 'Planning_Region', 'Planning_Area', 'country', 'city'],\n",
       "      dtype='object')"
      ]
     },
     "metadata": {},
     "execution_count": 47
    }
   ],
   "source": [
    "address_df=pd.read_csv('Data/condo.csv')\n",
    "address_df.columns=address_df.columns.str.replace(' ','_')\n",
    "address_df.columns"
   ]
  },
  {
   "cell_type": "code",
   "execution_count": 48,
   "metadata": {},
   "outputs": [
    {
     "output_type": "execute_result",
     "data": {
      "text/plain": [
       "   Unnamed:_0         Project_Name                           Address  \\\n",
       "0           1              LA CASA     68 Woodlands Drive 16  #10-38   \n",
       "1           2         THE PANORAMA    16 Ang Mo Kio Avenue 2  #03-27   \n",
       "2           3      WATERFRONT GOLD  750 Bedok Reservoir Road  #09-02   \n",
       "3           4         THE RAINTREE            93 Bukit Drive  #05-28   \n",
       "4           5  WATERBANK AT DAKOTA        70 Dakota Crescent  #16-02   \n",
       "\n",
       "   No._of_Units  Area_(sqm) Type_of_Area  Transacted_Price_($) Nett_Price($)  \\\n",
       "0             1         119       Strata              998000.0             -   \n",
       "1             1          44       Strata              685000.0             -   \n",
       "2             1         137       Strata             1738000.0             -   \n",
       "3             1         147       Strata             1650000.0             -   \n",
       "4             1          82       Strata             1520000.0             -   \n",
       "\n",
       "   Unit_Price_($_psm)  Unit_Price_($_psf)  ... Postal_District Postal_Sector  \\\n",
       "0                8387                 779  ...              25            73   \n",
       "1               15568                1446  ...              20            56   \n",
       "2               12686                1179  ...              16            47   \n",
       "3               11224                1043  ...              21            58   \n",
       "4               18537                1722  ...              14            39   \n",
       "\n",
       "  Postal_Code    Planning_Region  Planning_Area    country       city  \\\n",
       "0      737892       North Region      Woodlands  Singapore  Singapore   \n",
       "1      567699  North East Region     Ang Mo Kio  Singapore  Singapore   \n",
       "2      479256        East Region          Bedok  Singapore  Singapore   \n",
       "3      587844        West Region  Bukit Panjang  Singapore  Singapore   \n",
       "4      399941     Central Region        Geylang  Singapore  Singapore   \n",
       "\n",
       "                      address  room_num                          full_address  \n",
       "0     68 Woodlands Drive 16       10-38     68 Woodlands Drive 16  ,Singapore  \n",
       "1    16 Ang Mo Kio Avenue 2       03-27    16 Ang Mo Kio Avenue 2  ,Singapore  \n",
       "2  750 Bedok Reservoir Road       09-02  750 Bedok Reservoir Road  ,Singapore  \n",
       "3            93 Bukit Drive       05-28            93 Bukit Drive  ,Singapore  \n",
       "4        70 Dakota Crescent       16-02        70 Dakota Crescent  ,Singapore  \n",
       "\n",
       "[5 rows x 26 columns]"
      ],
      "text/html": "<div>\n<style scoped>\n    .dataframe tbody tr th:only-of-type {\n        vertical-align: middle;\n    }\n\n    .dataframe tbody tr th {\n        vertical-align: top;\n    }\n\n    .dataframe thead th {\n        text-align: right;\n    }\n</style>\n<table border=\"1\" class=\"dataframe\">\n  <thead>\n    <tr style=\"text-align: right;\">\n      <th></th>\n      <th>Unnamed:_0</th>\n      <th>Project_Name</th>\n      <th>Address</th>\n      <th>No._of_Units</th>\n      <th>Area_(sqm)</th>\n      <th>Type_of_Area</th>\n      <th>Transacted_Price_($)</th>\n      <th>Nett_Price($)</th>\n      <th>Unit_Price_($_psm)</th>\n      <th>Unit_Price_($_psf)</th>\n      <th>...</th>\n      <th>Postal_District</th>\n      <th>Postal_Sector</th>\n      <th>Postal_Code</th>\n      <th>Planning_Region</th>\n      <th>Planning_Area</th>\n      <th>country</th>\n      <th>city</th>\n      <th>address</th>\n      <th>room_num</th>\n      <th>full_address</th>\n    </tr>\n  </thead>\n  <tbody>\n    <tr>\n      <th>0</th>\n      <td>1</td>\n      <td>LA CASA</td>\n      <td>68 Woodlands Drive 16  #10-38</td>\n      <td>1</td>\n      <td>119</td>\n      <td>Strata</td>\n      <td>998000.0</td>\n      <td>-</td>\n      <td>8387</td>\n      <td>779</td>\n      <td>...</td>\n      <td>25</td>\n      <td>73</td>\n      <td>737892</td>\n      <td>North Region</td>\n      <td>Woodlands</td>\n      <td>Singapore</td>\n      <td>Singapore</td>\n      <td>68 Woodlands Drive 16</td>\n      <td>10-38</td>\n      <td>68 Woodlands Drive 16  ,Singapore</td>\n    </tr>\n    <tr>\n      <th>1</th>\n      <td>2</td>\n      <td>THE PANORAMA</td>\n      <td>16 Ang Mo Kio Avenue 2  #03-27</td>\n      <td>1</td>\n      <td>44</td>\n      <td>Strata</td>\n      <td>685000.0</td>\n      <td>-</td>\n      <td>15568</td>\n      <td>1446</td>\n      <td>...</td>\n      <td>20</td>\n      <td>56</td>\n      <td>567699</td>\n      <td>North East Region</td>\n      <td>Ang Mo Kio</td>\n      <td>Singapore</td>\n      <td>Singapore</td>\n      <td>16 Ang Mo Kio Avenue 2</td>\n      <td>03-27</td>\n      <td>16 Ang Mo Kio Avenue 2  ,Singapore</td>\n    </tr>\n    <tr>\n      <th>2</th>\n      <td>3</td>\n      <td>WATERFRONT GOLD</td>\n      <td>750 Bedok Reservoir Road  #09-02</td>\n      <td>1</td>\n      <td>137</td>\n      <td>Strata</td>\n      <td>1738000.0</td>\n      <td>-</td>\n      <td>12686</td>\n      <td>1179</td>\n      <td>...</td>\n      <td>16</td>\n      <td>47</td>\n      <td>479256</td>\n      <td>East Region</td>\n      <td>Bedok</td>\n      <td>Singapore</td>\n      <td>Singapore</td>\n      <td>750 Bedok Reservoir Road</td>\n      <td>09-02</td>\n      <td>750 Bedok Reservoir Road  ,Singapore</td>\n    </tr>\n    <tr>\n      <th>3</th>\n      <td>4</td>\n      <td>THE RAINTREE</td>\n      <td>93 Bukit Drive  #05-28</td>\n      <td>1</td>\n      <td>147</td>\n      <td>Strata</td>\n      <td>1650000.0</td>\n      <td>-</td>\n      <td>11224</td>\n      <td>1043</td>\n      <td>...</td>\n      <td>21</td>\n      <td>58</td>\n      <td>587844</td>\n      <td>West Region</td>\n      <td>Bukit Panjang</td>\n      <td>Singapore</td>\n      <td>Singapore</td>\n      <td>93 Bukit Drive</td>\n      <td>05-28</td>\n      <td>93 Bukit Drive  ,Singapore</td>\n    </tr>\n    <tr>\n      <th>4</th>\n      <td>5</td>\n      <td>WATERBANK AT DAKOTA</td>\n      <td>70 Dakota Crescent  #16-02</td>\n      <td>1</td>\n      <td>82</td>\n      <td>Strata</td>\n      <td>1520000.0</td>\n      <td>-</td>\n      <td>18537</td>\n      <td>1722</td>\n      <td>...</td>\n      <td>14</td>\n      <td>39</td>\n      <td>399941</td>\n      <td>Central Region</td>\n      <td>Geylang</td>\n      <td>Singapore</td>\n      <td>Singapore</td>\n      <td>70 Dakota Crescent</td>\n      <td>16-02</td>\n      <td>70 Dakota Crescent  ,Singapore</td>\n    </tr>\n  </tbody>\n</table>\n<p>5 rows × 26 columns</p>\n</div>"
     },
     "metadata": {},
     "execution_count": 48
    }
   ],
   "source": [
    "address_df[['address', 'room_num']] =address_df.Address.str.split('#',expand=True)\n",
    "address_df['full_address'] = address_df.address + ',' + address_df.city\n",
    "address_df.head()"
   ]
  },
  {
   "cell_type": "code",
   "execution_count": 39,
   "metadata": {},
   "outputs": [
    {
     "output_type": "stream",
     "name": "stderr",
     "text": [
      " 24%|██▍       | 1645/6871 [13:55<44:15,  1.97it/s]\n"
     ]
    },
    {
     "output_type": "error",
     "ename": "KeyboardInterrupt",
     "evalue": "",
     "traceback": [
      "\u001b[0;31m---------------------------------------------------------------------------\u001b[0m",
      "\u001b[0;31mKeyboardInterrupt\u001b[0m                         Traceback (most recent call last)",
      "\u001b[0;32m<ipython-input-39-8876fcdf7dce>\u001b[0m in \u001b[0;36m<module>\u001b[0;34m\u001b[0m\n\u001b[1;32m      1\u001b[0m \u001b[0mtqdm\u001b[0m\u001b[0;34m.\u001b[0m\u001b[0mpandas\u001b[0m\u001b[0;34m(\u001b[0m\u001b[0;34m)\u001b[0m\u001b[0;34m\u001b[0m\u001b[0;34m\u001b[0m\u001b[0m\n\u001b[1;32m      2\u001b[0m \u001b[0mgeolocator\u001b[0m \u001b[0;34m=\u001b[0m \u001b[0mNominatim\u001b[0m\u001b[0;34m(\u001b[0m\u001b[0mtimeout\u001b[0m\u001b[0;34m=\u001b[0m\u001b[0;36m5\u001b[0m\u001b[0;34m,\u001b[0m \u001b[0muser_agent\u001b[0m \u001b[0;34m=\u001b[0m \u001b[0;34m\"myGeolocator\"\u001b[0m\u001b[0;34m)\u001b[0m\u001b[0;34m\u001b[0m\u001b[0;34m\u001b[0m\u001b[0m\n\u001b[0;32m----> 3\u001b[0;31m \u001b[0maddress_df\u001b[0m\u001b[0;34m[\u001b[0m\u001b[0;34m'gcode'\u001b[0m\u001b[0;34m]\u001b[0m \u001b[0;34m=\u001b[0m \u001b[0maddress_df\u001b[0m\u001b[0;34m.\u001b[0m\u001b[0mfull_address\u001b[0m\u001b[0;34m.\u001b[0m\u001b[0mprogress_apply\u001b[0m\u001b[0;34m(\u001b[0m\u001b[0mgeolocator\u001b[0m\u001b[0;34m.\u001b[0m\u001b[0mgeocode\u001b[0m\u001b[0;34m)\u001b[0m\u001b[0;34m\u001b[0m\u001b[0;34m\u001b[0m\u001b[0m\n\u001b[0m\u001b[1;32m      4\u001b[0m \u001b[0maddress_df\u001b[0m\u001b[0;34m=\u001b[0m\u001b[0maddress_df\u001b[0m\u001b[0;34m.\u001b[0m\u001b[0mdropna\u001b[0m\u001b[0;34m(\u001b[0m\u001b[0msubset\u001b[0m\u001b[0;34m=\u001b[0m\u001b[0;34m[\u001b[0m\u001b[0;34m'gcode'\u001b[0m\u001b[0;34m]\u001b[0m\u001b[0;34m)\u001b[0m\u001b[0;34m\u001b[0m\u001b[0;34m\u001b[0m\u001b[0m\n\u001b[1;32m      5\u001b[0m \u001b[0maddress_df\u001b[0m\u001b[0;34m[\u001b[0m\u001b[0;34m'lat'\u001b[0m\u001b[0;34m]\u001b[0m \u001b[0;34m=\u001b[0m \u001b[0;34m[\u001b[0m\u001b[0mg\u001b[0m\u001b[0;34m.\u001b[0m\u001b[0mlatitude\u001b[0m \u001b[0;32mfor\u001b[0m \u001b[0mg\u001b[0m \u001b[0;32min\u001b[0m \u001b[0maddress_df\u001b[0m\u001b[0;34m.\u001b[0m\u001b[0mgcode\u001b[0m\u001b[0;34m]\u001b[0m\u001b[0;34m\u001b[0m\u001b[0;34m\u001b[0m\u001b[0m\n",
      "\u001b[0;32m~/opt/anaconda3/lib/python3.7/site-packages/tqdm/std.py\u001b[0m in \u001b[0;36minner\u001b[0;34m(df, func, *args, **kwargs)\u001b[0m\n\u001b[1;32m    766\u001b[0m                 \u001b[0;31m# on the df using our wrapper (which provides bar updating)\u001b[0m\u001b[0;34m\u001b[0m\u001b[0;34m\u001b[0m\u001b[0;34m\u001b[0m\u001b[0m\n\u001b[1;32m    767\u001b[0m                 \u001b[0;32mtry\u001b[0m\u001b[0;34m:\u001b[0m\u001b[0;34m\u001b[0m\u001b[0;34m\u001b[0m\u001b[0m\n\u001b[0;32m--> 768\u001b[0;31m                     \u001b[0;32mreturn\u001b[0m \u001b[0mgetattr\u001b[0m\u001b[0;34m(\u001b[0m\u001b[0mdf\u001b[0m\u001b[0;34m,\u001b[0m \u001b[0mdf_function\u001b[0m\u001b[0;34m)\u001b[0m\u001b[0;34m(\u001b[0m\u001b[0mwrapper\u001b[0m\u001b[0;34m,\u001b[0m \u001b[0;34m**\u001b[0m\u001b[0mkwargs\u001b[0m\u001b[0;34m)\u001b[0m\u001b[0;34m\u001b[0m\u001b[0;34m\u001b[0m\u001b[0m\n\u001b[0m\u001b[1;32m    769\u001b[0m                 \u001b[0;32mfinally\u001b[0m\u001b[0;34m:\u001b[0m\u001b[0;34m\u001b[0m\u001b[0;34m\u001b[0m\u001b[0m\n\u001b[1;32m    770\u001b[0m                     \u001b[0mt\u001b[0m\u001b[0;34m.\u001b[0m\u001b[0mclose\u001b[0m\u001b[0;34m(\u001b[0m\u001b[0;34m)\u001b[0m\u001b[0;34m\u001b[0m\u001b[0;34m\u001b[0m\u001b[0m\n",
      "\u001b[0;32m~/opt/anaconda3/lib/python3.7/site-packages/pandas/core/series.py\u001b[0m in \u001b[0;36mapply\u001b[0;34m(self, func, convert_dtype, args, **kwds)\u001b[0m\n\u001b[1;32m   4198\u001b[0m             \u001b[0;32melse\u001b[0m\u001b[0;34m:\u001b[0m\u001b[0;34m\u001b[0m\u001b[0;34m\u001b[0m\u001b[0m\n\u001b[1;32m   4199\u001b[0m                 \u001b[0mvalues\u001b[0m \u001b[0;34m=\u001b[0m \u001b[0mself\u001b[0m\u001b[0;34m.\u001b[0m\u001b[0mastype\u001b[0m\u001b[0;34m(\u001b[0m\u001b[0mobject\u001b[0m\u001b[0;34m)\u001b[0m\u001b[0;34m.\u001b[0m\u001b[0m_values\u001b[0m\u001b[0;34m\u001b[0m\u001b[0;34m\u001b[0m\u001b[0m\n\u001b[0;32m-> 4200\u001b[0;31m                 \u001b[0mmapped\u001b[0m \u001b[0;34m=\u001b[0m \u001b[0mlib\u001b[0m\u001b[0;34m.\u001b[0m\u001b[0mmap_infer\u001b[0m\u001b[0;34m(\u001b[0m\u001b[0mvalues\u001b[0m\u001b[0;34m,\u001b[0m \u001b[0mf\u001b[0m\u001b[0;34m,\u001b[0m \u001b[0mconvert\u001b[0m\u001b[0;34m=\u001b[0m\u001b[0mconvert_dtype\u001b[0m\u001b[0;34m)\u001b[0m\u001b[0;34m\u001b[0m\u001b[0;34m\u001b[0m\u001b[0m\n\u001b[0m\u001b[1;32m   4201\u001b[0m \u001b[0;34m\u001b[0m\u001b[0m\n\u001b[1;32m   4202\u001b[0m         \u001b[0;32mif\u001b[0m \u001b[0mlen\u001b[0m\u001b[0;34m(\u001b[0m\u001b[0mmapped\u001b[0m\u001b[0;34m)\u001b[0m \u001b[0;32mand\u001b[0m \u001b[0misinstance\u001b[0m\u001b[0;34m(\u001b[0m\u001b[0mmapped\u001b[0m\u001b[0;34m[\u001b[0m\u001b[0;36m0\u001b[0m\u001b[0;34m]\u001b[0m\u001b[0;34m,\u001b[0m \u001b[0mSeries\u001b[0m\u001b[0;34m)\u001b[0m\u001b[0;34m:\u001b[0m\u001b[0;34m\u001b[0m\u001b[0;34m\u001b[0m\u001b[0m\n",
      "\u001b[0;32mpandas/_libs/lib.pyx\u001b[0m in \u001b[0;36mpandas._libs.lib.map_infer\u001b[0;34m()\u001b[0m\n",
      "\u001b[0;32m~/opt/anaconda3/lib/python3.7/site-packages/tqdm/std.py\u001b[0m in \u001b[0;36mwrapper\u001b[0;34m(*args, **kwargs)\u001b[0m\n\u001b[1;32m    761\u001b[0m                     \u001b[0;31m# take a fast or slow code path; so stop when t.total==t.n\u001b[0m\u001b[0;34m\u001b[0m\u001b[0;34m\u001b[0m\u001b[0;34m\u001b[0m\u001b[0m\n\u001b[1;32m    762\u001b[0m                     \u001b[0mt\u001b[0m\u001b[0;34m.\u001b[0m\u001b[0mupdate\u001b[0m\u001b[0;34m(\u001b[0m\u001b[0mn\u001b[0m\u001b[0;34m=\u001b[0m\u001b[0;36m1\u001b[0m \u001b[0;32mif\u001b[0m \u001b[0;32mnot\u001b[0m \u001b[0mt\u001b[0m\u001b[0;34m.\u001b[0m\u001b[0mtotal\u001b[0m \u001b[0;32mor\u001b[0m \u001b[0mt\u001b[0m\u001b[0;34m.\u001b[0m\u001b[0mn\u001b[0m \u001b[0;34m<\u001b[0m \u001b[0mt\u001b[0m\u001b[0;34m.\u001b[0m\u001b[0mtotal\u001b[0m \u001b[0;32melse\u001b[0m \u001b[0;36m0\u001b[0m\u001b[0;34m)\u001b[0m\u001b[0;34m\u001b[0m\u001b[0;34m\u001b[0m\u001b[0m\n\u001b[0;32m--> 763\u001b[0;31m                     \u001b[0;32mreturn\u001b[0m \u001b[0mfunc\u001b[0m\u001b[0;34m(\u001b[0m\u001b[0;34m*\u001b[0m\u001b[0margs\u001b[0m\u001b[0;34m,\u001b[0m \u001b[0;34m**\u001b[0m\u001b[0mkwargs\u001b[0m\u001b[0;34m)\u001b[0m\u001b[0;34m\u001b[0m\u001b[0;34m\u001b[0m\u001b[0m\n\u001b[0m\u001b[1;32m    764\u001b[0m \u001b[0;34m\u001b[0m\u001b[0m\n\u001b[1;32m    765\u001b[0m                 \u001b[0;31m# Apply the provided function (in **kwargs)\u001b[0m\u001b[0;34m\u001b[0m\u001b[0;34m\u001b[0m\u001b[0;34m\u001b[0m\u001b[0m\n",
      "\u001b[0;32m~/opt/anaconda3/lib/python3.7/site-packages/geopy/geocoders/nominatim.py\u001b[0m in \u001b[0;36mgeocode\u001b[0;34m(self, query, exactly_one, timeout, limit, addressdetails, language, geometry, extratags, country_codes, viewbox, bounded, featuretype, namedetails)\u001b[0m\n\u001b[1;32m    292\u001b[0m         \u001b[0mlogger\u001b[0m\u001b[0;34m.\u001b[0m\u001b[0mdebug\u001b[0m\u001b[0;34m(\u001b[0m\u001b[0;34m\"%s.geocode: %s\"\u001b[0m\u001b[0;34m,\u001b[0m \u001b[0mself\u001b[0m\u001b[0;34m.\u001b[0m\u001b[0m__class__\u001b[0m\u001b[0;34m.\u001b[0m\u001b[0m__name__\u001b[0m\u001b[0;34m,\u001b[0m \u001b[0murl\u001b[0m\u001b[0;34m)\u001b[0m\u001b[0;34m\u001b[0m\u001b[0;34m\u001b[0m\u001b[0m\n\u001b[1;32m    293\u001b[0m         \u001b[0mcallback\u001b[0m \u001b[0;34m=\u001b[0m \u001b[0mpartial\u001b[0m\u001b[0;34m(\u001b[0m\u001b[0mself\u001b[0m\u001b[0;34m.\u001b[0m\u001b[0m_parse_json\u001b[0m\u001b[0;34m,\u001b[0m \u001b[0mexactly_one\u001b[0m\u001b[0;34m=\u001b[0m\u001b[0mexactly_one\u001b[0m\u001b[0;34m)\u001b[0m\u001b[0;34m\u001b[0m\u001b[0;34m\u001b[0m\u001b[0m\n\u001b[0;32m--> 294\u001b[0;31m         \u001b[0;32mreturn\u001b[0m \u001b[0mself\u001b[0m\u001b[0;34m.\u001b[0m\u001b[0m_call_geocoder\u001b[0m\u001b[0;34m(\u001b[0m\u001b[0murl\u001b[0m\u001b[0;34m,\u001b[0m \u001b[0mcallback\u001b[0m\u001b[0;34m,\u001b[0m \u001b[0mtimeout\u001b[0m\u001b[0;34m=\u001b[0m\u001b[0mtimeout\u001b[0m\u001b[0;34m)\u001b[0m\u001b[0;34m\u001b[0m\u001b[0;34m\u001b[0m\u001b[0m\n\u001b[0m\u001b[1;32m    295\u001b[0m \u001b[0;34m\u001b[0m\u001b[0m\n\u001b[1;32m    296\u001b[0m     def reverse(\n",
      "\u001b[0;32m~/opt/anaconda3/lib/python3.7/site-packages/geopy/geocoders/base.py\u001b[0m in \u001b[0;36m_call_geocoder\u001b[0;34m(self, url, callback, timeout, is_json, headers)\u001b[0m\n\u001b[1;32m    358\u001b[0m         \u001b[0;32mtry\u001b[0m\u001b[0;34m:\u001b[0m\u001b[0;34m\u001b[0m\u001b[0;34m\u001b[0m\u001b[0m\n\u001b[1;32m    359\u001b[0m             \u001b[0;32mif\u001b[0m \u001b[0mis_json\u001b[0m\u001b[0;34m:\u001b[0m\u001b[0;34m\u001b[0m\u001b[0;34m\u001b[0m\u001b[0m\n\u001b[0;32m--> 360\u001b[0;31m                 \u001b[0mresult\u001b[0m \u001b[0;34m=\u001b[0m \u001b[0mself\u001b[0m\u001b[0;34m.\u001b[0m\u001b[0madapter\u001b[0m\u001b[0;34m.\u001b[0m\u001b[0mget_json\u001b[0m\u001b[0;34m(\u001b[0m\u001b[0murl\u001b[0m\u001b[0;34m,\u001b[0m \u001b[0mtimeout\u001b[0m\u001b[0;34m=\u001b[0m\u001b[0mtimeout\u001b[0m\u001b[0;34m,\u001b[0m \u001b[0mheaders\u001b[0m\u001b[0;34m=\u001b[0m\u001b[0mreq_headers\u001b[0m\u001b[0;34m)\u001b[0m\u001b[0;34m\u001b[0m\u001b[0;34m\u001b[0m\u001b[0m\n\u001b[0m\u001b[1;32m    361\u001b[0m             \u001b[0;32melse\u001b[0m\u001b[0;34m:\u001b[0m\u001b[0;34m\u001b[0m\u001b[0;34m\u001b[0m\u001b[0m\n\u001b[1;32m    362\u001b[0m                 \u001b[0mresult\u001b[0m \u001b[0;34m=\u001b[0m \u001b[0mself\u001b[0m\u001b[0;34m.\u001b[0m\u001b[0madapter\u001b[0m\u001b[0;34m.\u001b[0m\u001b[0mget_text\u001b[0m\u001b[0;34m(\u001b[0m\u001b[0murl\u001b[0m\u001b[0;34m,\u001b[0m \u001b[0mtimeout\u001b[0m\u001b[0;34m=\u001b[0m\u001b[0mtimeout\u001b[0m\u001b[0;34m,\u001b[0m \u001b[0mheaders\u001b[0m\u001b[0;34m=\u001b[0m\u001b[0mreq_headers\u001b[0m\u001b[0;34m)\u001b[0m\u001b[0;34m\u001b[0m\u001b[0;34m\u001b[0m\u001b[0m\n",
      "\u001b[0;32m~/opt/anaconda3/lib/python3.7/site-packages/geopy/adapters.py\u001b[0m in \u001b[0;36mget_json\u001b[0;34m(self, url, timeout, headers)\u001b[0m\n\u001b[1;32m    371\u001b[0m \u001b[0;34m\u001b[0m\u001b[0m\n\u001b[1;32m    372\u001b[0m     \u001b[0;32mdef\u001b[0m \u001b[0mget_json\u001b[0m\u001b[0;34m(\u001b[0m\u001b[0mself\u001b[0m\u001b[0;34m,\u001b[0m \u001b[0murl\u001b[0m\u001b[0;34m,\u001b[0m \u001b[0;34m*\u001b[0m\u001b[0;34m,\u001b[0m \u001b[0mtimeout\u001b[0m\u001b[0;34m,\u001b[0m \u001b[0mheaders\u001b[0m\u001b[0;34m)\u001b[0m\u001b[0;34m:\u001b[0m\u001b[0;34m\u001b[0m\u001b[0;34m\u001b[0m\u001b[0m\n\u001b[0;32m--> 373\u001b[0;31m         \u001b[0mresp\u001b[0m \u001b[0;34m=\u001b[0m \u001b[0mself\u001b[0m\u001b[0;34m.\u001b[0m\u001b[0m_request\u001b[0m\u001b[0;34m(\u001b[0m\u001b[0murl\u001b[0m\u001b[0;34m,\u001b[0m \u001b[0mtimeout\u001b[0m\u001b[0;34m=\u001b[0m\u001b[0mtimeout\u001b[0m\u001b[0;34m,\u001b[0m \u001b[0mheaders\u001b[0m\u001b[0;34m=\u001b[0m\u001b[0mheaders\u001b[0m\u001b[0;34m)\u001b[0m\u001b[0;34m\u001b[0m\u001b[0;34m\u001b[0m\u001b[0m\n\u001b[0m\u001b[1;32m    374\u001b[0m         \u001b[0;32mtry\u001b[0m\u001b[0;34m:\u001b[0m\u001b[0;34m\u001b[0m\u001b[0;34m\u001b[0m\u001b[0m\n\u001b[1;32m    375\u001b[0m             \u001b[0;32mreturn\u001b[0m \u001b[0mresp\u001b[0m\u001b[0;34m.\u001b[0m\u001b[0mjson\u001b[0m\u001b[0;34m(\u001b[0m\u001b[0;34m)\u001b[0m\u001b[0;34m\u001b[0m\u001b[0;34m\u001b[0m\u001b[0m\n",
      "\u001b[0;32m~/opt/anaconda3/lib/python3.7/site-packages/geopy/adapters.py\u001b[0m in \u001b[0;36m_request\u001b[0;34m(self, url, timeout, headers)\u001b[0m\n\u001b[1;32m    381\u001b[0m     \u001b[0;32mdef\u001b[0m \u001b[0m_request\u001b[0m\u001b[0;34m(\u001b[0m\u001b[0mself\u001b[0m\u001b[0;34m,\u001b[0m \u001b[0murl\u001b[0m\u001b[0;34m,\u001b[0m \u001b[0;34m*\u001b[0m\u001b[0;34m,\u001b[0m \u001b[0mtimeout\u001b[0m\u001b[0;34m,\u001b[0m \u001b[0mheaders\u001b[0m\u001b[0;34m)\u001b[0m\u001b[0;34m:\u001b[0m\u001b[0;34m\u001b[0m\u001b[0;34m\u001b[0m\u001b[0m\n\u001b[1;32m    382\u001b[0m         \u001b[0;32mtry\u001b[0m\u001b[0;34m:\u001b[0m\u001b[0;34m\u001b[0m\u001b[0;34m\u001b[0m\u001b[0m\n\u001b[0;32m--> 383\u001b[0;31m             \u001b[0mresp\u001b[0m \u001b[0;34m=\u001b[0m \u001b[0mself\u001b[0m\u001b[0;34m.\u001b[0m\u001b[0msession\u001b[0m\u001b[0;34m.\u001b[0m\u001b[0mget\u001b[0m\u001b[0;34m(\u001b[0m\u001b[0murl\u001b[0m\u001b[0;34m,\u001b[0m \u001b[0mtimeout\u001b[0m\u001b[0;34m=\u001b[0m\u001b[0mtimeout\u001b[0m\u001b[0;34m,\u001b[0m \u001b[0mheaders\u001b[0m\u001b[0;34m=\u001b[0m\u001b[0mheaders\u001b[0m\u001b[0;34m)\u001b[0m\u001b[0;34m\u001b[0m\u001b[0;34m\u001b[0m\u001b[0m\n\u001b[0m\u001b[1;32m    384\u001b[0m         \u001b[0;32mexcept\u001b[0m \u001b[0mException\u001b[0m \u001b[0;32mas\u001b[0m \u001b[0merror\u001b[0m\u001b[0;34m:\u001b[0m\u001b[0;34m\u001b[0m\u001b[0;34m\u001b[0m\u001b[0m\n\u001b[1;32m    385\u001b[0m             \u001b[0mmessage\u001b[0m \u001b[0;34m=\u001b[0m \u001b[0mstr\u001b[0m\u001b[0;34m(\u001b[0m\u001b[0merror\u001b[0m\u001b[0;34m)\u001b[0m\u001b[0;34m\u001b[0m\u001b[0;34m\u001b[0m\u001b[0m\n",
      "\u001b[0;32m~/opt/anaconda3/lib/python3.7/site-packages/requests/sessions.py\u001b[0m in \u001b[0;36mget\u001b[0;34m(self, url, **kwargs)\u001b[0m\n\u001b[1;32m    541\u001b[0m \u001b[0;34m\u001b[0m\u001b[0m\n\u001b[1;32m    542\u001b[0m         \u001b[0mkwargs\u001b[0m\u001b[0;34m.\u001b[0m\u001b[0msetdefault\u001b[0m\u001b[0;34m(\u001b[0m\u001b[0;34m'allow_redirects'\u001b[0m\u001b[0;34m,\u001b[0m \u001b[0;32mTrue\u001b[0m\u001b[0;34m)\u001b[0m\u001b[0;34m\u001b[0m\u001b[0;34m\u001b[0m\u001b[0m\n\u001b[0;32m--> 543\u001b[0;31m         \u001b[0;32mreturn\u001b[0m \u001b[0mself\u001b[0m\u001b[0;34m.\u001b[0m\u001b[0mrequest\u001b[0m\u001b[0;34m(\u001b[0m\u001b[0;34m'GET'\u001b[0m\u001b[0;34m,\u001b[0m \u001b[0murl\u001b[0m\u001b[0;34m,\u001b[0m \u001b[0;34m**\u001b[0m\u001b[0mkwargs\u001b[0m\u001b[0;34m)\u001b[0m\u001b[0;34m\u001b[0m\u001b[0;34m\u001b[0m\u001b[0m\n\u001b[0m\u001b[1;32m    544\u001b[0m \u001b[0;34m\u001b[0m\u001b[0m\n\u001b[1;32m    545\u001b[0m     \u001b[0;32mdef\u001b[0m \u001b[0moptions\u001b[0m\u001b[0;34m(\u001b[0m\u001b[0mself\u001b[0m\u001b[0;34m,\u001b[0m \u001b[0murl\u001b[0m\u001b[0;34m,\u001b[0m \u001b[0;34m**\u001b[0m\u001b[0mkwargs\u001b[0m\u001b[0;34m)\u001b[0m\u001b[0;34m:\u001b[0m\u001b[0;34m\u001b[0m\u001b[0;34m\u001b[0m\u001b[0m\n",
      "\u001b[0;32m~/opt/anaconda3/lib/python3.7/site-packages/requests/sessions.py\u001b[0m in \u001b[0;36mrequest\u001b[0;34m(self, method, url, params, data, headers, cookies, files, auth, timeout, allow_redirects, proxies, hooks, stream, verify, cert, json)\u001b[0m\n\u001b[1;32m    528\u001b[0m         }\n\u001b[1;32m    529\u001b[0m         \u001b[0msend_kwargs\u001b[0m\u001b[0;34m.\u001b[0m\u001b[0mupdate\u001b[0m\u001b[0;34m(\u001b[0m\u001b[0msettings\u001b[0m\u001b[0;34m)\u001b[0m\u001b[0;34m\u001b[0m\u001b[0;34m\u001b[0m\u001b[0m\n\u001b[0;32m--> 530\u001b[0;31m         \u001b[0mresp\u001b[0m \u001b[0;34m=\u001b[0m \u001b[0mself\u001b[0m\u001b[0;34m.\u001b[0m\u001b[0msend\u001b[0m\u001b[0;34m(\u001b[0m\u001b[0mprep\u001b[0m\u001b[0;34m,\u001b[0m \u001b[0;34m**\u001b[0m\u001b[0msend_kwargs\u001b[0m\u001b[0;34m)\u001b[0m\u001b[0;34m\u001b[0m\u001b[0;34m\u001b[0m\u001b[0m\n\u001b[0m\u001b[1;32m    531\u001b[0m \u001b[0;34m\u001b[0m\u001b[0m\n\u001b[1;32m    532\u001b[0m         \u001b[0;32mreturn\u001b[0m \u001b[0mresp\u001b[0m\u001b[0;34m\u001b[0m\u001b[0;34m\u001b[0m\u001b[0m\n",
      "\u001b[0;32m~/opt/anaconda3/lib/python3.7/site-packages/requests/sessions.py\u001b[0m in \u001b[0;36msend\u001b[0;34m(self, request, **kwargs)\u001b[0m\n\u001b[1;32m    641\u001b[0m \u001b[0;34m\u001b[0m\u001b[0m\n\u001b[1;32m    642\u001b[0m         \u001b[0;31m# Send the request\u001b[0m\u001b[0;34m\u001b[0m\u001b[0;34m\u001b[0m\u001b[0;34m\u001b[0m\u001b[0m\n\u001b[0;32m--> 643\u001b[0;31m         \u001b[0mr\u001b[0m \u001b[0;34m=\u001b[0m \u001b[0madapter\u001b[0m\u001b[0;34m.\u001b[0m\u001b[0msend\u001b[0m\u001b[0;34m(\u001b[0m\u001b[0mrequest\u001b[0m\u001b[0;34m,\u001b[0m \u001b[0;34m**\u001b[0m\u001b[0mkwargs\u001b[0m\u001b[0;34m)\u001b[0m\u001b[0;34m\u001b[0m\u001b[0;34m\u001b[0m\u001b[0m\n\u001b[0m\u001b[1;32m    644\u001b[0m \u001b[0;34m\u001b[0m\u001b[0m\n\u001b[1;32m    645\u001b[0m         \u001b[0;31m# Total elapsed time of the request (approximately)\u001b[0m\u001b[0;34m\u001b[0m\u001b[0;34m\u001b[0m\u001b[0;34m\u001b[0m\u001b[0m\n",
      "\u001b[0;32m~/opt/anaconda3/lib/python3.7/site-packages/requests/adapters.py\u001b[0m in \u001b[0;36msend\u001b[0;34m(self, request, stream, timeout, verify, cert, proxies)\u001b[0m\n\u001b[1;32m    447\u001b[0m                     \u001b[0mdecode_content\u001b[0m\u001b[0;34m=\u001b[0m\u001b[0;32mFalse\u001b[0m\u001b[0;34m,\u001b[0m\u001b[0;34m\u001b[0m\u001b[0;34m\u001b[0m\u001b[0m\n\u001b[1;32m    448\u001b[0m                     \u001b[0mretries\u001b[0m\u001b[0;34m=\u001b[0m\u001b[0mself\u001b[0m\u001b[0;34m.\u001b[0m\u001b[0mmax_retries\u001b[0m\u001b[0;34m,\u001b[0m\u001b[0;34m\u001b[0m\u001b[0;34m\u001b[0m\u001b[0m\n\u001b[0;32m--> 449\u001b[0;31m                     \u001b[0mtimeout\u001b[0m\u001b[0;34m=\u001b[0m\u001b[0mtimeout\u001b[0m\u001b[0;34m\u001b[0m\u001b[0;34m\u001b[0m\u001b[0m\n\u001b[0m\u001b[1;32m    450\u001b[0m                 )\n\u001b[1;32m    451\u001b[0m \u001b[0;34m\u001b[0m\u001b[0m\n",
      "\u001b[0;32m~/opt/anaconda3/lib/python3.7/site-packages/urllib3/connectionpool.py\u001b[0m in \u001b[0;36murlopen\u001b[0;34m(self, method, url, body, headers, retries, redirect, assert_same_host, timeout, pool_timeout, release_conn, chunked, body_pos, **response_kw)\u001b[0m\n\u001b[1;32m    675\u001b[0m                 \u001b[0mbody\u001b[0m\u001b[0;34m=\u001b[0m\u001b[0mbody\u001b[0m\u001b[0;34m,\u001b[0m\u001b[0;34m\u001b[0m\u001b[0;34m\u001b[0m\u001b[0m\n\u001b[1;32m    676\u001b[0m                 \u001b[0mheaders\u001b[0m\u001b[0;34m=\u001b[0m\u001b[0mheaders\u001b[0m\u001b[0;34m,\u001b[0m\u001b[0;34m\u001b[0m\u001b[0;34m\u001b[0m\u001b[0m\n\u001b[0;32m--> 677\u001b[0;31m                 \u001b[0mchunked\u001b[0m\u001b[0;34m=\u001b[0m\u001b[0mchunked\u001b[0m\u001b[0;34m,\u001b[0m\u001b[0;34m\u001b[0m\u001b[0;34m\u001b[0m\u001b[0m\n\u001b[0m\u001b[1;32m    678\u001b[0m             )\n\u001b[1;32m    679\u001b[0m \u001b[0;34m\u001b[0m\u001b[0m\n",
      "\u001b[0;32m~/opt/anaconda3/lib/python3.7/site-packages/urllib3/connectionpool.py\u001b[0m in \u001b[0;36m_make_request\u001b[0;34m(self, conn, method, url, timeout, chunked, **httplib_request_kw)\u001b[0m\n\u001b[1;32m    424\u001b[0m                     \u001b[0;31m# Python 3 (including for exceptions like SystemExit).\u001b[0m\u001b[0;34m\u001b[0m\u001b[0;34m\u001b[0m\u001b[0;34m\u001b[0m\u001b[0m\n\u001b[1;32m    425\u001b[0m                     \u001b[0;31m# Otherwise it looks like a bug in the code.\u001b[0m\u001b[0;34m\u001b[0m\u001b[0;34m\u001b[0m\u001b[0;34m\u001b[0m\u001b[0m\n\u001b[0;32m--> 426\u001b[0;31m                     \u001b[0msix\u001b[0m\u001b[0;34m.\u001b[0m\u001b[0mraise_from\u001b[0m\u001b[0;34m(\u001b[0m\u001b[0me\u001b[0m\u001b[0;34m,\u001b[0m \u001b[0;32mNone\u001b[0m\u001b[0;34m)\u001b[0m\u001b[0;34m\u001b[0m\u001b[0;34m\u001b[0m\u001b[0m\n\u001b[0m\u001b[1;32m    427\u001b[0m         \u001b[0;32mexcept\u001b[0m \u001b[0;34m(\u001b[0m\u001b[0mSocketTimeout\u001b[0m\u001b[0;34m,\u001b[0m \u001b[0mBaseSSLError\u001b[0m\u001b[0;34m,\u001b[0m \u001b[0mSocketError\u001b[0m\u001b[0;34m)\u001b[0m \u001b[0;32mas\u001b[0m \u001b[0me\u001b[0m\u001b[0;34m:\u001b[0m\u001b[0;34m\u001b[0m\u001b[0;34m\u001b[0m\u001b[0m\n\u001b[1;32m    428\u001b[0m             \u001b[0mself\u001b[0m\u001b[0;34m.\u001b[0m\u001b[0m_raise_timeout\u001b[0m\u001b[0;34m(\u001b[0m\u001b[0merr\u001b[0m\u001b[0;34m=\u001b[0m\u001b[0me\u001b[0m\u001b[0;34m,\u001b[0m \u001b[0murl\u001b[0m\u001b[0;34m=\u001b[0m\u001b[0murl\u001b[0m\u001b[0;34m,\u001b[0m \u001b[0mtimeout_value\u001b[0m\u001b[0;34m=\u001b[0m\u001b[0mread_timeout\u001b[0m\u001b[0;34m)\u001b[0m\u001b[0;34m\u001b[0m\u001b[0;34m\u001b[0m\u001b[0m\n",
      "\u001b[0;32m~/opt/anaconda3/lib/python3.7/site-packages/urllib3/packages/six.py\u001b[0m in \u001b[0;36mraise_from\u001b[0;34m(value, from_value)\u001b[0m\n",
      "\u001b[0;32m~/opt/anaconda3/lib/python3.7/site-packages/urllib3/connectionpool.py\u001b[0m in \u001b[0;36m_make_request\u001b[0;34m(self, conn, method, url, timeout, chunked, **httplib_request_kw)\u001b[0m\n\u001b[1;32m    419\u001b[0m                 \u001b[0;31m# Python 3\u001b[0m\u001b[0;34m\u001b[0m\u001b[0;34m\u001b[0m\u001b[0;34m\u001b[0m\u001b[0m\n\u001b[1;32m    420\u001b[0m                 \u001b[0;32mtry\u001b[0m\u001b[0;34m:\u001b[0m\u001b[0;34m\u001b[0m\u001b[0;34m\u001b[0m\u001b[0m\n\u001b[0;32m--> 421\u001b[0;31m                     \u001b[0mhttplib_response\u001b[0m \u001b[0;34m=\u001b[0m \u001b[0mconn\u001b[0m\u001b[0;34m.\u001b[0m\u001b[0mgetresponse\u001b[0m\u001b[0;34m(\u001b[0m\u001b[0;34m)\u001b[0m\u001b[0;34m\u001b[0m\u001b[0;34m\u001b[0m\u001b[0m\n\u001b[0m\u001b[1;32m    422\u001b[0m                 \u001b[0;32mexcept\u001b[0m \u001b[0mBaseException\u001b[0m \u001b[0;32mas\u001b[0m \u001b[0me\u001b[0m\u001b[0;34m:\u001b[0m\u001b[0;34m\u001b[0m\u001b[0;34m\u001b[0m\u001b[0m\n\u001b[1;32m    423\u001b[0m                     \u001b[0;31m# Remove the TypeError from the exception chain in\u001b[0m\u001b[0;34m\u001b[0m\u001b[0;34m\u001b[0m\u001b[0;34m\u001b[0m\u001b[0m\n",
      "\u001b[0;32m~/opt/anaconda3/lib/python3.7/http/client.py\u001b[0m in \u001b[0;36mgetresponse\u001b[0;34m(self)\u001b[0m\n\u001b[1;32m   1334\u001b[0m         \u001b[0;32mtry\u001b[0m\u001b[0;34m:\u001b[0m\u001b[0;34m\u001b[0m\u001b[0;34m\u001b[0m\u001b[0m\n\u001b[1;32m   1335\u001b[0m             \u001b[0;32mtry\u001b[0m\u001b[0;34m:\u001b[0m\u001b[0;34m\u001b[0m\u001b[0;34m\u001b[0m\u001b[0m\n\u001b[0;32m-> 1336\u001b[0;31m                 \u001b[0mresponse\u001b[0m\u001b[0;34m.\u001b[0m\u001b[0mbegin\u001b[0m\u001b[0;34m(\u001b[0m\u001b[0;34m)\u001b[0m\u001b[0;34m\u001b[0m\u001b[0;34m\u001b[0m\u001b[0m\n\u001b[0m\u001b[1;32m   1337\u001b[0m             \u001b[0;32mexcept\u001b[0m \u001b[0mConnectionError\u001b[0m\u001b[0;34m:\u001b[0m\u001b[0;34m\u001b[0m\u001b[0;34m\u001b[0m\u001b[0m\n\u001b[1;32m   1338\u001b[0m                 \u001b[0mself\u001b[0m\u001b[0;34m.\u001b[0m\u001b[0mclose\u001b[0m\u001b[0;34m(\u001b[0m\u001b[0;34m)\u001b[0m\u001b[0;34m\u001b[0m\u001b[0;34m\u001b[0m\u001b[0m\n",
      "\u001b[0;32m~/opt/anaconda3/lib/python3.7/http/client.py\u001b[0m in \u001b[0;36mbegin\u001b[0;34m(self)\u001b[0m\n\u001b[1;32m    304\u001b[0m         \u001b[0;31m# read until we get a non-100 response\u001b[0m\u001b[0;34m\u001b[0m\u001b[0;34m\u001b[0m\u001b[0;34m\u001b[0m\u001b[0m\n\u001b[1;32m    305\u001b[0m         \u001b[0;32mwhile\u001b[0m \u001b[0;32mTrue\u001b[0m\u001b[0;34m:\u001b[0m\u001b[0;34m\u001b[0m\u001b[0;34m\u001b[0m\u001b[0m\n\u001b[0;32m--> 306\u001b[0;31m             \u001b[0mversion\u001b[0m\u001b[0;34m,\u001b[0m \u001b[0mstatus\u001b[0m\u001b[0;34m,\u001b[0m \u001b[0mreason\u001b[0m \u001b[0;34m=\u001b[0m \u001b[0mself\u001b[0m\u001b[0;34m.\u001b[0m\u001b[0m_read_status\u001b[0m\u001b[0;34m(\u001b[0m\u001b[0;34m)\u001b[0m\u001b[0;34m\u001b[0m\u001b[0;34m\u001b[0m\u001b[0m\n\u001b[0m\u001b[1;32m    307\u001b[0m             \u001b[0;32mif\u001b[0m \u001b[0mstatus\u001b[0m \u001b[0;34m!=\u001b[0m \u001b[0mCONTINUE\u001b[0m\u001b[0;34m:\u001b[0m\u001b[0;34m\u001b[0m\u001b[0;34m\u001b[0m\u001b[0m\n\u001b[1;32m    308\u001b[0m                 \u001b[0;32mbreak\u001b[0m\u001b[0;34m\u001b[0m\u001b[0;34m\u001b[0m\u001b[0m\n",
      "\u001b[0;32m~/opt/anaconda3/lib/python3.7/http/client.py\u001b[0m in \u001b[0;36m_read_status\u001b[0;34m(self)\u001b[0m\n\u001b[1;32m    265\u001b[0m \u001b[0;34m\u001b[0m\u001b[0m\n\u001b[1;32m    266\u001b[0m     \u001b[0;32mdef\u001b[0m \u001b[0m_read_status\u001b[0m\u001b[0;34m(\u001b[0m\u001b[0mself\u001b[0m\u001b[0;34m)\u001b[0m\u001b[0;34m:\u001b[0m\u001b[0;34m\u001b[0m\u001b[0;34m\u001b[0m\u001b[0m\n\u001b[0;32m--> 267\u001b[0;31m         \u001b[0mline\u001b[0m \u001b[0;34m=\u001b[0m \u001b[0mstr\u001b[0m\u001b[0;34m(\u001b[0m\u001b[0mself\u001b[0m\u001b[0;34m.\u001b[0m\u001b[0mfp\u001b[0m\u001b[0;34m.\u001b[0m\u001b[0mreadline\u001b[0m\u001b[0;34m(\u001b[0m\u001b[0m_MAXLINE\u001b[0m \u001b[0;34m+\u001b[0m \u001b[0;36m1\u001b[0m\u001b[0;34m)\u001b[0m\u001b[0;34m,\u001b[0m \u001b[0;34m\"iso-8859-1\"\u001b[0m\u001b[0;34m)\u001b[0m\u001b[0;34m\u001b[0m\u001b[0;34m\u001b[0m\u001b[0m\n\u001b[0m\u001b[1;32m    268\u001b[0m         \u001b[0;32mif\u001b[0m \u001b[0mlen\u001b[0m\u001b[0;34m(\u001b[0m\u001b[0mline\u001b[0m\u001b[0;34m)\u001b[0m \u001b[0;34m>\u001b[0m \u001b[0m_MAXLINE\u001b[0m\u001b[0;34m:\u001b[0m\u001b[0;34m\u001b[0m\u001b[0;34m\u001b[0m\u001b[0m\n\u001b[1;32m    269\u001b[0m             \u001b[0;32mraise\u001b[0m \u001b[0mLineTooLong\u001b[0m\u001b[0;34m(\u001b[0m\u001b[0;34m\"status line\"\u001b[0m\u001b[0;34m)\u001b[0m\u001b[0;34m\u001b[0m\u001b[0;34m\u001b[0m\u001b[0m\n",
      "\u001b[0;32m~/opt/anaconda3/lib/python3.7/socket.py\u001b[0m in \u001b[0;36mreadinto\u001b[0;34m(self, b)\u001b[0m\n\u001b[1;32m    587\u001b[0m         \u001b[0;32mwhile\u001b[0m \u001b[0;32mTrue\u001b[0m\u001b[0;34m:\u001b[0m\u001b[0;34m\u001b[0m\u001b[0;34m\u001b[0m\u001b[0m\n\u001b[1;32m    588\u001b[0m             \u001b[0;32mtry\u001b[0m\u001b[0;34m:\u001b[0m\u001b[0;34m\u001b[0m\u001b[0;34m\u001b[0m\u001b[0m\n\u001b[0;32m--> 589\u001b[0;31m                 \u001b[0;32mreturn\u001b[0m \u001b[0mself\u001b[0m\u001b[0;34m.\u001b[0m\u001b[0m_sock\u001b[0m\u001b[0;34m.\u001b[0m\u001b[0mrecv_into\u001b[0m\u001b[0;34m(\u001b[0m\u001b[0mb\u001b[0m\u001b[0;34m)\u001b[0m\u001b[0;34m\u001b[0m\u001b[0;34m\u001b[0m\u001b[0m\n\u001b[0m\u001b[1;32m    590\u001b[0m             \u001b[0;32mexcept\u001b[0m \u001b[0mtimeout\u001b[0m\u001b[0;34m:\u001b[0m\u001b[0;34m\u001b[0m\u001b[0;34m\u001b[0m\u001b[0m\n\u001b[1;32m    591\u001b[0m                 \u001b[0mself\u001b[0m\u001b[0;34m.\u001b[0m\u001b[0m_timeout_occurred\u001b[0m \u001b[0;34m=\u001b[0m \u001b[0;32mTrue\u001b[0m\u001b[0;34m\u001b[0m\u001b[0;34m\u001b[0m\u001b[0m\n",
      "\u001b[0;32m~/opt/anaconda3/lib/python3.7/ssl.py\u001b[0m in \u001b[0;36mrecv_into\u001b[0;34m(self, buffer, nbytes, flags)\u001b[0m\n\u001b[1;32m   1069\u001b[0m                   \u001b[0;34m\"non-zero flags not allowed in calls to recv_into() on %s\"\u001b[0m \u001b[0;34m%\u001b[0m\u001b[0;34m\u001b[0m\u001b[0;34m\u001b[0m\u001b[0m\n\u001b[1;32m   1070\u001b[0m                   self.__class__)\n\u001b[0;32m-> 1071\u001b[0;31m             \u001b[0;32mreturn\u001b[0m \u001b[0mself\u001b[0m\u001b[0;34m.\u001b[0m\u001b[0mread\u001b[0m\u001b[0;34m(\u001b[0m\u001b[0mnbytes\u001b[0m\u001b[0;34m,\u001b[0m \u001b[0mbuffer\u001b[0m\u001b[0;34m)\u001b[0m\u001b[0;34m\u001b[0m\u001b[0;34m\u001b[0m\u001b[0m\n\u001b[0m\u001b[1;32m   1072\u001b[0m         \u001b[0;32melse\u001b[0m\u001b[0;34m:\u001b[0m\u001b[0;34m\u001b[0m\u001b[0;34m\u001b[0m\u001b[0m\n\u001b[1;32m   1073\u001b[0m             \u001b[0;32mreturn\u001b[0m \u001b[0msuper\u001b[0m\u001b[0;34m(\u001b[0m\u001b[0;34m)\u001b[0m\u001b[0;34m.\u001b[0m\u001b[0mrecv_into\u001b[0m\u001b[0;34m(\u001b[0m\u001b[0mbuffer\u001b[0m\u001b[0;34m,\u001b[0m \u001b[0mnbytes\u001b[0m\u001b[0;34m,\u001b[0m \u001b[0mflags\u001b[0m\u001b[0;34m)\u001b[0m\u001b[0;34m\u001b[0m\u001b[0;34m\u001b[0m\u001b[0m\n",
      "\u001b[0;32m~/opt/anaconda3/lib/python3.7/ssl.py\u001b[0m in \u001b[0;36mread\u001b[0;34m(self, len, buffer)\u001b[0m\n\u001b[1;32m    927\u001b[0m         \u001b[0;32mtry\u001b[0m\u001b[0;34m:\u001b[0m\u001b[0;34m\u001b[0m\u001b[0;34m\u001b[0m\u001b[0m\n\u001b[1;32m    928\u001b[0m             \u001b[0;32mif\u001b[0m \u001b[0mbuffer\u001b[0m \u001b[0;32mis\u001b[0m \u001b[0;32mnot\u001b[0m \u001b[0;32mNone\u001b[0m\u001b[0;34m:\u001b[0m\u001b[0;34m\u001b[0m\u001b[0;34m\u001b[0m\u001b[0m\n\u001b[0;32m--> 929\u001b[0;31m                 \u001b[0;32mreturn\u001b[0m \u001b[0mself\u001b[0m\u001b[0;34m.\u001b[0m\u001b[0m_sslobj\u001b[0m\u001b[0;34m.\u001b[0m\u001b[0mread\u001b[0m\u001b[0;34m(\u001b[0m\u001b[0mlen\u001b[0m\u001b[0;34m,\u001b[0m \u001b[0mbuffer\u001b[0m\u001b[0;34m)\u001b[0m\u001b[0;34m\u001b[0m\u001b[0;34m\u001b[0m\u001b[0m\n\u001b[0m\u001b[1;32m    930\u001b[0m             \u001b[0;32melse\u001b[0m\u001b[0;34m:\u001b[0m\u001b[0;34m\u001b[0m\u001b[0;34m\u001b[0m\u001b[0m\n\u001b[1;32m    931\u001b[0m                 \u001b[0;32mreturn\u001b[0m \u001b[0mself\u001b[0m\u001b[0;34m.\u001b[0m\u001b[0m_sslobj\u001b[0m\u001b[0;34m.\u001b[0m\u001b[0mread\u001b[0m\u001b[0;34m(\u001b[0m\u001b[0mlen\u001b[0m\u001b[0;34m)\u001b[0m\u001b[0;34m\u001b[0m\u001b[0;34m\u001b[0m\u001b[0m\n",
      "\u001b[0;31mKeyboardInterrupt\u001b[0m: "
     ]
    }
   ],
   "source": [
    "tqdm.pandas()\n",
    "geolocator = Nominatim(timeout=5, user_agent = \"myGeolocator\")\n",
    "address_df['gcode'] = address_df.full_address.progress_apply(geolocator.geocode)"
   ]
  },
  {
   "cell_type": "code",
   "execution_count": 43,
   "metadata": {},
   "outputs": [
    {
     "output_type": "execute_result",
     "data": {
      "text/plain": [
       "   Unnamed:_0         Project_Name                           Address  \\\n",
       "0           1              LA CASA     68 Woodlands Drive 16  #10-38   \n",
       "1           2         THE PANORAMA    16 Ang Mo Kio Avenue 2  #03-27   \n",
       "2           3      WATERFRONT GOLD  750 Bedok Reservoir Road  #09-02   \n",
       "3           4         THE RAINTREE            93 Bukit Drive  #05-28   \n",
       "4           5  WATERBANK AT DAKOTA        70 Dakota Crescent  #16-02   \n",
       "\n",
       "   No._of_Units  Area_(sqm) Type_of_Area  Transacted_Price_($) Nett_Price($)  \\\n",
       "0             1         119       Strata              998000.0             -   \n",
       "1             1          44       Strata              685000.0             -   \n",
       "2             1         137       Strata             1738000.0             -   \n",
       "3             1         147       Strata             1650000.0             -   \n",
       "4             1          82       Strata             1520000.0             -   \n",
       "\n",
       "   Unit_Price_($_psm)  Unit_Price_($_psf)  ...    Planning_Region  \\\n",
       "0                8387                 779  ...       North Region   \n",
       "1               15568                1446  ...  North East Region   \n",
       "2               12686                1179  ...        East Region   \n",
       "3               11224                1043  ...        West Region   \n",
       "4               18537                1722  ...     Central Region   \n",
       "\n",
       "   Planning_Area    country       city                          full_address  \\\n",
       "0      Woodlands  Singapore  Singapore     68 Woodlands Drive 16  ,Singapore   \n",
       "1     Ang Mo Kio  Singapore  Singapore    16 Ang Mo Kio Avenue 2  ,Singapore   \n",
       "2          Bedok  Singapore  Singapore  750 Bedok Reservoir Road  ,Singapore   \n",
       "3  Bukit Panjang  Singapore  Singapore            93 Bukit Drive  ,Singapore   \n",
       "4        Geylang  Singapore  Singapore        70 Dakota Crescent  ,Singapore   \n",
       "\n",
       "                                               gcode  \\\n",
       "0  (Woodlands Drive 16, Woodlands, Northwest, 730...   \n",
       "1  (Ang Mo Kio Avenue 2, Ang Mo Kio, Singapore, C...   \n",
       "2  (750, Bedok Reservoir Road, Simpang Bedok, Bed...   \n",
       "3  (Bukit Drive, Bukit Panjang, Northwest, 587976...   \n",
       "4  (Waterbank, 70, Dakota Crescent, Marine Parade...   \n",
       "\n",
       "                      address  room_num       lat        long  \n",
       "0     68 Woodlands Drive 16       10-38  1.431682  103.797576  \n",
       "1    16 Ang Mo Kio Avenue 2       03-27  1.375210  103.833407  \n",
       "2  750 Bedok Reservoir Road       09-02  1.338535  103.928519  \n",
       "3            93 Bukit Drive       05-28  1.348286  103.774920  \n",
       "4        70 Dakota Crescent       16-02  1.306646  103.888110  \n",
       "\n",
       "[5 rows x 29 columns]"
      ],
      "text/html": "<div>\n<style scoped>\n    .dataframe tbody tr th:only-of-type {\n        vertical-align: middle;\n    }\n\n    .dataframe tbody tr th {\n        vertical-align: top;\n    }\n\n    .dataframe thead th {\n        text-align: right;\n    }\n</style>\n<table border=\"1\" class=\"dataframe\">\n  <thead>\n    <tr style=\"text-align: right;\">\n      <th></th>\n      <th>Unnamed:_0</th>\n      <th>Project_Name</th>\n      <th>Address</th>\n      <th>No._of_Units</th>\n      <th>Area_(sqm)</th>\n      <th>Type_of_Area</th>\n      <th>Transacted_Price_($)</th>\n      <th>Nett_Price($)</th>\n      <th>Unit_Price_($_psm)</th>\n      <th>Unit_Price_($_psf)</th>\n      <th>...</th>\n      <th>Planning_Region</th>\n      <th>Planning_Area</th>\n      <th>country</th>\n      <th>city</th>\n      <th>full_address</th>\n      <th>gcode</th>\n      <th>address</th>\n      <th>room_num</th>\n      <th>lat</th>\n      <th>long</th>\n    </tr>\n  </thead>\n  <tbody>\n    <tr>\n      <th>0</th>\n      <td>1</td>\n      <td>LA CASA</td>\n      <td>68 Woodlands Drive 16  #10-38</td>\n      <td>1</td>\n      <td>119</td>\n      <td>Strata</td>\n      <td>998000.0</td>\n      <td>-</td>\n      <td>8387</td>\n      <td>779</td>\n      <td>...</td>\n      <td>North Region</td>\n      <td>Woodlands</td>\n      <td>Singapore</td>\n      <td>Singapore</td>\n      <td>68 Woodlands Drive 16  ,Singapore</td>\n      <td>(Woodlands Drive 16, Woodlands, Northwest, 730...</td>\n      <td>68 Woodlands Drive 16</td>\n      <td>10-38</td>\n      <td>1.431682</td>\n      <td>103.797576</td>\n    </tr>\n    <tr>\n      <th>1</th>\n      <td>2</td>\n      <td>THE PANORAMA</td>\n      <td>16 Ang Mo Kio Avenue 2  #03-27</td>\n      <td>1</td>\n      <td>44</td>\n      <td>Strata</td>\n      <td>685000.0</td>\n      <td>-</td>\n      <td>15568</td>\n      <td>1446</td>\n      <td>...</td>\n      <td>North East Region</td>\n      <td>Ang Mo Kio</td>\n      <td>Singapore</td>\n      <td>Singapore</td>\n      <td>16 Ang Mo Kio Avenue 2  ,Singapore</td>\n      <td>(Ang Mo Kio Avenue 2, Ang Mo Kio, Singapore, C...</td>\n      <td>16 Ang Mo Kio Avenue 2</td>\n      <td>03-27</td>\n      <td>1.375210</td>\n      <td>103.833407</td>\n    </tr>\n    <tr>\n      <th>2</th>\n      <td>3</td>\n      <td>WATERFRONT GOLD</td>\n      <td>750 Bedok Reservoir Road  #09-02</td>\n      <td>1</td>\n      <td>137</td>\n      <td>Strata</td>\n      <td>1738000.0</td>\n      <td>-</td>\n      <td>12686</td>\n      <td>1179</td>\n      <td>...</td>\n      <td>East Region</td>\n      <td>Bedok</td>\n      <td>Singapore</td>\n      <td>Singapore</td>\n      <td>750 Bedok Reservoir Road  ,Singapore</td>\n      <td>(750, Bedok Reservoir Road, Simpang Bedok, Bed...</td>\n      <td>750 Bedok Reservoir Road</td>\n      <td>09-02</td>\n      <td>1.338535</td>\n      <td>103.928519</td>\n    </tr>\n    <tr>\n      <th>3</th>\n      <td>4</td>\n      <td>THE RAINTREE</td>\n      <td>93 Bukit Drive  #05-28</td>\n      <td>1</td>\n      <td>147</td>\n      <td>Strata</td>\n      <td>1650000.0</td>\n      <td>-</td>\n      <td>11224</td>\n      <td>1043</td>\n      <td>...</td>\n      <td>West Region</td>\n      <td>Bukit Panjang</td>\n      <td>Singapore</td>\n      <td>Singapore</td>\n      <td>93 Bukit Drive  ,Singapore</td>\n      <td>(Bukit Drive, Bukit Panjang, Northwest, 587976...</td>\n      <td>93 Bukit Drive</td>\n      <td>05-28</td>\n      <td>1.348286</td>\n      <td>103.774920</td>\n    </tr>\n    <tr>\n      <th>4</th>\n      <td>5</td>\n      <td>WATERBANK AT DAKOTA</td>\n      <td>70 Dakota Crescent  #16-02</td>\n      <td>1</td>\n      <td>82</td>\n      <td>Strata</td>\n      <td>1520000.0</td>\n      <td>-</td>\n      <td>18537</td>\n      <td>1722</td>\n      <td>...</td>\n      <td>Central Region</td>\n      <td>Geylang</td>\n      <td>Singapore</td>\n      <td>Singapore</td>\n      <td>70 Dakota Crescent  ,Singapore</td>\n      <td>(Waterbank, 70, Dakota Crescent, Marine Parade...</td>\n      <td>70 Dakota Crescent</td>\n      <td>16-02</td>\n      <td>1.306646</td>\n      <td>103.888110</td>\n    </tr>\n  </tbody>\n</table>\n<p>5 rows × 29 columns</p>\n</div>"
     },
     "metadata": {},
     "execution_count": 43
    }
   ],
   "source": [
    "address_df=address_df.dropna(subset=['gcode'])\n",
    "address_df['lat'] = [g.latitude for g in address_df.gcode]\n",
    "address_df['long'] = [g.longitude for g in address_df.gcode]\n",
    "address_df.head()"
   ]
  },
  {
   "cell_type": "code",
   "execution_count": 44,
   "metadata": {},
   "outputs": [],
   "source": [
    "address_df.to_csv('Data/condo_geocoded.csv')"
   ]
  },
  {
   "cell_type": "code",
   "execution_count": 49,
   "metadata": {},
   "outputs": [],
   "source": [
    "hdb_df=pd.read_csv('Data/hdb_2020.csv')"
   ]
  },
  {
   "cell_type": "code",
   "execution_count": 50,
   "metadata": {},
   "outputs": [
    {
     "output_type": "stream",
     "name": "stderr",
     "text": [
      "100%|██████████| 16118/16118 [2:18:46<00:00,  1.94it/s]\n"
     ]
    },
    {
     "output_type": "execute_result",
     "data": {
      "text/plain": [
       "   Unnamed: 0    month        town flat_type block        street_name  \\\n",
       "0           1  2020-01  ANG MO KIO    3 ROOM   208   ANG MO KIO AVE 1   \n",
       "1           2  2020-01  ANG MO KIO    3 ROOM  307C   ANG MO KIO AVE 1   \n",
       "2           3  2020-01  ANG MO KIO    3 ROOM   319   ANG MO KIO AVE 1   \n",
       "3           4  2020-01  ANG MO KIO    3 ROOM   216   ANG MO KIO AVE 1   \n",
       "4           5  2020-01  ANG MO KIO    3 ROOM   556  ANG MO KIO AVE 10   \n",
       "\n",
       "  storey_range  floor_area_sqm      flat_model  lease_commence_date  \\\n",
       "0     04 TO 06            73.0  New Generation                 1976   \n",
       "1     19 TO 21            70.0         Model A                 2012   \n",
       "2     01 TO 03            73.0  New Generation                 1977   \n",
       "3     04 TO 06            73.0  New Generation                 1976   \n",
       "4     07 TO 09            68.0  New Generation                 1980   \n",
       "\n",
       "      remaining_lease  resale_price   unit_price  \\\n",
       "0  55 years 07 months      265000.0  3630.136986   \n",
       "1  91 years 08 months      470000.0  6714.285714   \n",
       "2  56 years 04 months      230000.0  3150.684932   \n",
       "3  55 years 03 months      280000.0  3835.616438   \n",
       "4   59 years 01 month      220000.0  3235.294118   \n",
       "\n",
       "                      full_address  \\\n",
       "0   208 ANG MO KIO AVE 1 Singapore   \n",
       "1  307C ANG MO KIO AVE 1 Singapore   \n",
       "2   319 ANG MO KIO AVE 1 Singapore   \n",
       "3   216 ANG MO KIO AVE 1 Singapore   \n",
       "4  556 ANG MO KIO AVE 10 Singapore   \n",
       "\n",
       "                                               gcode       lat        long  \n",
       "0  (Ang Mo Kio Avenue 1, Ang Mo Kio, Singapore, C...  1.364941  103.840296  \n",
       "1  (307C, Ang Mo Kio Avenue 1, Ang Mo Kio, Singap...  1.365582  103.845183  \n",
       "2  (Ang Mo Kio Avenue 1, Ang Mo Kio, Singapore, C...  1.364941  103.840296  \n",
       "3  (Ang Mo Kio Avenue 1, Ang Mo Kio, Singapore, C...  1.364941  103.840296  \n",
       "4  (Ang Mo Kio Avenue 10, Ang Mo Kio, Singapore, ...  1.369247  103.856782  "
      ],
      "text/html": "<div>\n<style scoped>\n    .dataframe tbody tr th:only-of-type {\n        vertical-align: middle;\n    }\n\n    .dataframe tbody tr th {\n        vertical-align: top;\n    }\n\n    .dataframe thead th {\n        text-align: right;\n    }\n</style>\n<table border=\"1\" class=\"dataframe\">\n  <thead>\n    <tr style=\"text-align: right;\">\n      <th></th>\n      <th>Unnamed: 0</th>\n      <th>month</th>\n      <th>town</th>\n      <th>flat_type</th>\n      <th>block</th>\n      <th>street_name</th>\n      <th>storey_range</th>\n      <th>floor_area_sqm</th>\n      <th>flat_model</th>\n      <th>lease_commence_date</th>\n      <th>remaining_lease</th>\n      <th>resale_price</th>\n      <th>unit_price</th>\n      <th>full_address</th>\n      <th>gcode</th>\n      <th>lat</th>\n      <th>long</th>\n    </tr>\n  </thead>\n  <tbody>\n    <tr>\n      <th>0</th>\n      <td>1</td>\n      <td>2020-01</td>\n      <td>ANG MO KIO</td>\n      <td>3 ROOM</td>\n      <td>208</td>\n      <td>ANG MO KIO AVE 1</td>\n      <td>04 TO 06</td>\n      <td>73.0</td>\n      <td>New Generation</td>\n      <td>1976</td>\n      <td>55 years 07 months</td>\n      <td>265000.0</td>\n      <td>3630.136986</td>\n      <td>208 ANG MO KIO AVE 1 Singapore</td>\n      <td>(Ang Mo Kio Avenue 1, Ang Mo Kio, Singapore, C...</td>\n      <td>1.364941</td>\n      <td>103.840296</td>\n    </tr>\n    <tr>\n      <th>1</th>\n      <td>2</td>\n      <td>2020-01</td>\n      <td>ANG MO KIO</td>\n      <td>3 ROOM</td>\n      <td>307C</td>\n      <td>ANG MO KIO AVE 1</td>\n      <td>19 TO 21</td>\n      <td>70.0</td>\n      <td>Model A</td>\n      <td>2012</td>\n      <td>91 years 08 months</td>\n      <td>470000.0</td>\n      <td>6714.285714</td>\n      <td>307C ANG MO KIO AVE 1 Singapore</td>\n      <td>(307C, Ang Mo Kio Avenue 1, Ang Mo Kio, Singap...</td>\n      <td>1.365582</td>\n      <td>103.845183</td>\n    </tr>\n    <tr>\n      <th>2</th>\n      <td>3</td>\n      <td>2020-01</td>\n      <td>ANG MO KIO</td>\n      <td>3 ROOM</td>\n      <td>319</td>\n      <td>ANG MO KIO AVE 1</td>\n      <td>01 TO 03</td>\n      <td>73.0</td>\n      <td>New Generation</td>\n      <td>1977</td>\n      <td>56 years 04 months</td>\n      <td>230000.0</td>\n      <td>3150.684932</td>\n      <td>319 ANG MO KIO AVE 1 Singapore</td>\n      <td>(Ang Mo Kio Avenue 1, Ang Mo Kio, Singapore, C...</td>\n      <td>1.364941</td>\n      <td>103.840296</td>\n    </tr>\n    <tr>\n      <th>3</th>\n      <td>4</td>\n      <td>2020-01</td>\n      <td>ANG MO KIO</td>\n      <td>3 ROOM</td>\n      <td>216</td>\n      <td>ANG MO KIO AVE 1</td>\n      <td>04 TO 06</td>\n      <td>73.0</td>\n      <td>New Generation</td>\n      <td>1976</td>\n      <td>55 years 03 months</td>\n      <td>280000.0</td>\n      <td>3835.616438</td>\n      <td>216 ANG MO KIO AVE 1 Singapore</td>\n      <td>(Ang Mo Kio Avenue 1, Ang Mo Kio, Singapore, C...</td>\n      <td>1.364941</td>\n      <td>103.840296</td>\n    </tr>\n    <tr>\n      <th>4</th>\n      <td>5</td>\n      <td>2020-01</td>\n      <td>ANG MO KIO</td>\n      <td>3 ROOM</td>\n      <td>556</td>\n      <td>ANG MO KIO AVE 10</td>\n      <td>07 TO 09</td>\n      <td>68.0</td>\n      <td>New Generation</td>\n      <td>1980</td>\n      <td>59 years 01 month</td>\n      <td>220000.0</td>\n      <td>3235.294118</td>\n      <td>556 ANG MO KIO AVE 10 Singapore</td>\n      <td>(Ang Mo Kio Avenue 10, Ang Mo Kio, Singapore, ...</td>\n      <td>1.369247</td>\n      <td>103.856782</td>\n    </tr>\n  </tbody>\n</table>\n</div>"
     },
     "metadata": {},
     "execution_count": 50
    }
   ],
   "source": [
    "tqdm.pandas()\n",
    "geolocator = Nominatim(timeout=5, user_agent = \"myGeolocator\")\n",
    "hdb_df['gcode'] = hdb_df.full_address.progress_apply(geolocator.geocode)\n",
    "hdb_df=hdb_df.dropna(subset=['gcode'])\n",
    "hdb_df['lat'] = [g.latitude for g in hdb_df.gcode]\n",
    "hdb_df['long'] = [g.longitude for g in hdb_df.gcode]\n",
    "hdb_df.head()"
   ]
  },
  {
   "cell_type": "code",
   "execution_count": 51,
   "metadata": {},
   "outputs": [
    {
     "output_type": "execute_result",
     "data": {
      "text/plain": [
       "(13686, 17)"
      ]
     },
     "metadata": {},
     "execution_count": 51
    }
   ],
   "source": [
    "hdb_df.shape"
   ]
  },
  {
   "cell_type": "code",
   "execution_count": 52,
   "metadata": {},
   "outputs": [],
   "source": [
    "hdb_df.to_csv('Data/hdb_address.csv')"
   ]
  },
  {
   "cell_type": "code",
   "execution_count": null,
   "metadata": {},
   "outputs": [],
   "source": [
    "\n"
   ]
  }
 ]
}